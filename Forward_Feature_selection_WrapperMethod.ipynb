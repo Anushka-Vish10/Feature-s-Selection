{
  "nbformat": 4,
  "nbformat_minor": 0,
  "metadata": {
    "colab": {
      "name": "Forward_Feature_selection_WrapperMethod.ipynb",
      "provenance": []
    },
    "kernelspec": {
      "name": "python3",
      "display_name": "Python 3"
    },
    "language_info": {
      "name": "python"
    }
  },
  "cells": [
    {
      "cell_type": "markdown",
      "metadata": {
        "id": "IRGG_yn86INc"
      },
      "source": [
        "Wrapper Method\n",
        "\n",
        "\n",
        "\n",
        "\n",
        "\n",
        "\n",
        "\n",
        "\n",
        "The main idea behind a wrapper method is to select which set of features works best for a machine learning model.\n",
        "It follows a greedy search approach by evaluating all the possible combinations of features against the evaluation criterion.\n",
        "The evaluation criterion is simply the performance measure which depends on the type of problem, for e.g. For regression evaluation criterion can be MSE,MAE,MAPE,R-squared, Adjusted R-squared, similarly for classification the evaluation criterion can be accuracy, precision, recall, f1-score, etc. It selects the combination of features that gives the optimal results for the specified machine learning algorithm."
      ]
    },
    {
      "cell_type": "markdown",
      "metadata": {
        "id": "gMauu5SL6jQa"
      },
      "source": [
        "1. **Forward Feature Selection**\n",
        "\n",
        "\n",
        "1.   Forward selection is an iterative method in each iteration, we keep adding the feature which best improves our model till an addition of a new variable does not improve the performance of the model.\n",
        "2.   In forward selection, we start with a null model and then start fitting the model with each individual feature one at a time and select the feature with the higest arruracy for classification and less MSE/MAPE/MAE for regression models.\n",
        "\n",
        "3. Now fit a model with two features by trying combinations of the earlier selected feature with all other remaining features. Again select the feature with the higest arruracy for classificartion and less MSE/MAPE/MAE for regression models.\n",
        "\n",
        "4. Now fit a model with three features by trying combinations of two previously selected features with other remaining features. Repeat this process until we have a set of selected features with a higest arruracy for classificartion and minimum MSE/MAPE/MAE for regression models of individual features.\n",
        "\n",
        "5. This is an iterative method wherein we start with the best performing variable against the target. Next, we select another variable that gives the best performance in combination with the first selected variable. This process continues until the preset criterion is achieved.\n",
        "\n",
        "6. Forward selection starts with zero features, then, for each individual feature, runs a model and determines the p-value associated with the t-test or F-test performed. It then selects the feature with the lowest p-value and adds that to the working model. Next, it takes the first feature selected and runs models with a second feature added and selects the second feature with the lowest p-value. Then it takes the two features previously selected and runs models with a third feature and so on, until all features that have significant p-values are added to the model. Any features that never had a significant p-value when tried in the iterations will be excluded from the final model.\n",
        "\n"
      ]
    },
    {
      "cell_type": "code",
      "metadata": {
        "id": "ySoiETk72RI3"
      },
      "source": [
        "import pandas as pd\n",
        "import numpy as np\n",
        "import seaborn as sns\n",
        "import matplotlib.pyplot as plt"
      ],
      "execution_count": 1,
      "outputs": []
    },
    {
      "cell_type": "code",
      "metadata": {
        "id": "r8MVgQrS8jzJ"
      },
      "source": [
        "#Load the dataset #https://www.kaggle.com/burak3ergun/loan-data-set\n",
        "df_loan = pd.read_csv(\"https://raw.githubusercontent.com/atulpatelDS/Data_Files/master/Loan_Dataset/loan_data_set.csv\")"
      ],
      "execution_count": 2,
      "outputs": []
    },
    {
      "cell_type": "code",
      "metadata": {
        "colab": {
          "base_uri": "https://localhost:8080/",
          "height": 132
        },
        "id": "wYB0fxsB-FZY",
        "outputId": "28a12928-c6f1-46c3-e43b-566aeec8892c"
      },
      "source": [
        "df_loan.head(2)"
      ],
      "execution_count": 3,
      "outputs": [
        {
          "output_type": "execute_result",
          "data": {
            "text/html": [
              "<div>\n",
              "<style scoped>\n",
              "    .dataframe tbody tr th:only-of-type {\n",
              "        vertical-align: middle;\n",
              "    }\n",
              "\n",
              "    .dataframe tbody tr th {\n",
              "        vertical-align: top;\n",
              "    }\n",
              "\n",
              "    .dataframe thead th {\n",
              "        text-align: right;\n",
              "    }\n",
              "</style>\n",
              "<table border=\"1\" class=\"dataframe\">\n",
              "  <thead>\n",
              "    <tr style=\"text-align: right;\">\n",
              "      <th></th>\n",
              "      <th>Loan_ID</th>\n",
              "      <th>Gender</th>\n",
              "      <th>Married</th>\n",
              "      <th>Dependents</th>\n",
              "      <th>Education</th>\n",
              "      <th>Self_Employed</th>\n",
              "      <th>ApplicantIncome</th>\n",
              "      <th>CoapplicantIncome</th>\n",
              "      <th>LoanAmount</th>\n",
              "      <th>Loan_Amount_Term</th>\n",
              "      <th>Credit_History</th>\n",
              "      <th>Property_Area</th>\n",
              "      <th>Loan_Status</th>\n",
              "    </tr>\n",
              "  </thead>\n",
              "  <tbody>\n",
              "    <tr>\n",
              "      <th>0</th>\n",
              "      <td>LP001002</td>\n",
              "      <td>Male</td>\n",
              "      <td>No</td>\n",
              "      <td>0</td>\n",
              "      <td>Graduate</td>\n",
              "      <td>No</td>\n",
              "      <td>5849</td>\n",
              "      <td>0.0</td>\n",
              "      <td>NaN</td>\n",
              "      <td>360.0</td>\n",
              "      <td>1.0</td>\n",
              "      <td>Urban</td>\n",
              "      <td>Y</td>\n",
              "    </tr>\n",
              "    <tr>\n",
              "      <th>1</th>\n",
              "      <td>LP001003</td>\n",
              "      <td>Male</td>\n",
              "      <td>Yes</td>\n",
              "      <td>1</td>\n",
              "      <td>Graduate</td>\n",
              "      <td>No</td>\n",
              "      <td>4583</td>\n",
              "      <td>1508.0</td>\n",
              "      <td>128.0</td>\n",
              "      <td>360.0</td>\n",
              "      <td>1.0</td>\n",
              "      <td>Rural</td>\n",
              "      <td>N</td>\n",
              "    </tr>\n",
              "  </tbody>\n",
              "</table>\n",
              "</div>"
            ],
            "text/plain": [
              "    Loan_ID Gender Married  ... Credit_History Property_Area Loan_Status\n",
              "0  LP001002   Male      No  ...            1.0         Urban           Y\n",
              "1  LP001003   Male     Yes  ...            1.0         Rural           N\n",
              "\n",
              "[2 rows x 13 columns]"
            ]
          },
          "metadata": {},
          "execution_count": 3
        }
      ]
    },
    {
      "cell_type": "code",
      "metadata": {
        "colab": {
          "base_uri": "https://localhost:8080/"
        },
        "id": "lhjEnAuW-QYd",
        "outputId": "7bbab403-b419-4e8f-f75f-08b110695743"
      },
      "source": [
        "df_loan.shape"
      ],
      "execution_count": 6,
      "outputs": [
        {
          "output_type": "execute_result",
          "data": {
            "text/plain": [
              "(614, 13)"
            ]
          },
          "metadata": {},
          "execution_count": 6
        }
      ]
    },
    {
      "cell_type": "code",
      "metadata": {
        "colab": {
          "base_uri": "https://localhost:8080/"
        },
        "id": "6sYWKA01-Kc0",
        "outputId": "c049275d-a848-44b8-d311-e432ec94a2da"
      },
      "source": [
        "df_loan.info()\n",
        "\n",
        "\n",
        "# As we can see there is null values and having categorical values too\n",
        "# Not doing any feature engineering here, as dropping these null values and for categorical features will apply label encoder"
      ],
      "execution_count": 4,
      "outputs": [
        {
          "output_type": "stream",
          "name": "stdout",
          "text": [
            "<class 'pandas.core.frame.DataFrame'>\n",
            "RangeIndex: 614 entries, 0 to 613\n",
            "Data columns (total 13 columns):\n",
            " #   Column             Non-Null Count  Dtype  \n",
            "---  ------             --------------  -----  \n",
            " 0   Loan_ID            614 non-null    object \n",
            " 1   Gender             601 non-null    object \n",
            " 2   Married            611 non-null    object \n",
            " 3   Dependents         599 non-null    object \n",
            " 4   Education          614 non-null    object \n",
            " 5   Self_Employed      582 non-null    object \n",
            " 6   ApplicantIncome    614 non-null    int64  \n",
            " 7   CoapplicantIncome  614 non-null    float64\n",
            " 8   LoanAmount         592 non-null    float64\n",
            " 9   Loan_Amount_Term   600 non-null    float64\n",
            " 10  Credit_History     564 non-null    float64\n",
            " 11  Property_Area      614 non-null    object \n",
            " 12  Loan_Status        614 non-null    object \n",
            "dtypes: float64(4), int64(1), object(8)\n",
            "memory usage: 62.5+ KB\n"
          ]
        }
      ]
    },
    {
      "cell_type": "code",
      "metadata": {
        "id": "sdSkIUVz-_H3"
      },
      "source": [
        "# Remove all null value\n",
        "df_loan.dropna(inplace=True)\n",
        "# drop the uninformatica column(\"Loan_ID\")\n",
        "df_loan.drop(labels=[\"Loan_ID\"],axis=1,inplace=True)\n",
        "df_loan.reset_index(drop=True,inplace=True)"
      ],
      "execution_count": 7,
      "outputs": []
    },
    {
      "cell_type": "code",
      "metadata": {
        "id": "co6SK8cF_TOA"
      },
      "source": [
        "# laber enconding\n",
        "from sklearn.preprocessing import LabelEncoder\n",
        "le = LabelEncoder()\n",
        "# Coverting column names into list\n",
        "cols = df_loan.columns.tolist()\n",
        "for column in cols:\n",
        "    if df_loan[column].dtype == 'object':\n",
        "        df_loan[column] = le.fit_transform(df_loan[column])"
      ],
      "execution_count": 9,
      "outputs": []
    },
    {
      "cell_type": "code",
      "metadata": {
        "id": "-kSVZk3vAG4-"
      },
      "source": [
        "# seperating dependent and independent variables\n",
        "\n",
        "X = df_loan.iloc[:,0:-1]\n",
        "y = df_loan[\"Loan_Status\"]"
      ],
      "execution_count": 10,
      "outputs": []
    },
    {
      "cell_type": "code",
      "metadata": {
        "colab": {
          "base_uri": "https://localhost:8080/",
          "height": 206
        },
        "id": "mxmd5ThGANIX",
        "outputId": "70ea390e-daf5-4163-a385-bc92a5fb4348"
      },
      "source": [
        "X.head()"
      ],
      "execution_count": 11,
      "outputs": [
        {
          "output_type": "execute_result",
          "data": {
            "text/html": [
              "<div>\n",
              "<style scoped>\n",
              "    .dataframe tbody tr th:only-of-type {\n",
              "        vertical-align: middle;\n",
              "    }\n",
              "\n",
              "    .dataframe tbody tr th {\n",
              "        vertical-align: top;\n",
              "    }\n",
              "\n",
              "    .dataframe thead th {\n",
              "        text-align: right;\n",
              "    }\n",
              "</style>\n",
              "<table border=\"1\" class=\"dataframe\">\n",
              "  <thead>\n",
              "    <tr style=\"text-align: right;\">\n",
              "      <th></th>\n",
              "      <th>Gender</th>\n",
              "      <th>Married</th>\n",
              "      <th>Dependents</th>\n",
              "      <th>Education</th>\n",
              "      <th>Self_Employed</th>\n",
              "      <th>ApplicantIncome</th>\n",
              "      <th>CoapplicantIncome</th>\n",
              "      <th>LoanAmount</th>\n",
              "      <th>Loan_Amount_Term</th>\n",
              "      <th>Credit_History</th>\n",
              "      <th>Property_Area</th>\n",
              "    </tr>\n",
              "  </thead>\n",
              "  <tbody>\n",
              "    <tr>\n",
              "      <th>0</th>\n",
              "      <td>1</td>\n",
              "      <td>1</td>\n",
              "      <td>1</td>\n",
              "      <td>0</td>\n",
              "      <td>0</td>\n",
              "      <td>4583</td>\n",
              "      <td>1508.0</td>\n",
              "      <td>128.0</td>\n",
              "      <td>360.0</td>\n",
              "      <td>1.0</td>\n",
              "      <td>0</td>\n",
              "    </tr>\n",
              "    <tr>\n",
              "      <th>1</th>\n",
              "      <td>1</td>\n",
              "      <td>1</td>\n",
              "      <td>0</td>\n",
              "      <td>0</td>\n",
              "      <td>1</td>\n",
              "      <td>3000</td>\n",
              "      <td>0.0</td>\n",
              "      <td>66.0</td>\n",
              "      <td>360.0</td>\n",
              "      <td>1.0</td>\n",
              "      <td>2</td>\n",
              "    </tr>\n",
              "    <tr>\n",
              "      <th>2</th>\n",
              "      <td>1</td>\n",
              "      <td>1</td>\n",
              "      <td>0</td>\n",
              "      <td>1</td>\n",
              "      <td>0</td>\n",
              "      <td>2583</td>\n",
              "      <td>2358.0</td>\n",
              "      <td>120.0</td>\n",
              "      <td>360.0</td>\n",
              "      <td>1.0</td>\n",
              "      <td>2</td>\n",
              "    </tr>\n",
              "    <tr>\n",
              "      <th>3</th>\n",
              "      <td>1</td>\n",
              "      <td>0</td>\n",
              "      <td>0</td>\n",
              "      <td>0</td>\n",
              "      <td>0</td>\n",
              "      <td>6000</td>\n",
              "      <td>0.0</td>\n",
              "      <td>141.0</td>\n",
              "      <td>360.0</td>\n",
              "      <td>1.0</td>\n",
              "      <td>2</td>\n",
              "    </tr>\n",
              "    <tr>\n",
              "      <th>4</th>\n",
              "      <td>1</td>\n",
              "      <td>1</td>\n",
              "      <td>2</td>\n",
              "      <td>0</td>\n",
              "      <td>1</td>\n",
              "      <td>5417</td>\n",
              "      <td>4196.0</td>\n",
              "      <td>267.0</td>\n",
              "      <td>360.0</td>\n",
              "      <td>1.0</td>\n",
              "      <td>2</td>\n",
              "    </tr>\n",
              "  </tbody>\n",
              "</table>\n",
              "</div>"
            ],
            "text/plain": [
              "   Gender  Married  Dependents  ...  Loan_Amount_Term  Credit_History  Property_Area\n",
              "0       1        1           1  ...             360.0             1.0              0\n",
              "1       1        1           0  ...             360.0             1.0              2\n",
              "2       1        1           0  ...             360.0             1.0              2\n",
              "3       1        0           0  ...             360.0             1.0              2\n",
              "4       1        1           2  ...             360.0             1.0              2\n",
              "\n",
              "[5 rows x 11 columns]"
            ]
          },
          "metadata": {},
          "execution_count": 11
        }
      ]
    },
    {
      "cell_type": "code",
      "metadata": {
        "colab": {
          "base_uri": "https://localhost:8080/"
        },
        "id": "Eck32QskARWb",
        "outputId": "6080c509-b2a5-4047-d05a-59327118f82e"
      },
      "source": [
        "print(X.shape)\n",
        "print(y.shape)\n",
        "print(type(X))\n",
        "print(type(y))\n",
        "\n",
        "# Printing the shape and type"
      ],
      "execution_count": 12,
      "outputs": [
        {
          "output_type": "stream",
          "name": "stdout",
          "text": [
            "(480, 11)\n",
            "(480,)\n",
            "<class 'pandas.core.frame.DataFrame'>\n",
            "<class 'pandas.core.series.Series'>\n"
          ]
        }
      ]
    },
    {
      "cell_type": "code",
      "metadata": {
        "colab": {
          "base_uri": "https://localhost:8080/"
        },
        "id": "Y_Ay3vFlBeas",
        "outputId": "d3516250-cf62-43f9-ede2-da1155fe317e"
      },
      "source": [
        "!pip install mlxtend\n",
        "\n",
        "# for installing packages"
      ],
      "execution_count": 17,
      "outputs": [
        {
          "output_type": "stream",
          "name": "stdout",
          "text": [
            "Requirement already satisfied: mlxtend in /usr/local/lib/python3.7/dist-packages (0.14.0)\n",
            "Requirement already satisfied: scipy>=0.17 in /usr/local/lib/python3.7/dist-packages (from mlxtend) (1.4.1)\n",
            "Requirement already satisfied: numpy>=1.10.4 in /usr/local/lib/python3.7/dist-packages (from mlxtend) (1.19.5)\n",
            "Requirement already satisfied: pandas>=0.17.1 in /usr/local/lib/python3.7/dist-packages (from mlxtend) (1.1.5)\n",
            "Requirement already satisfied: matplotlib>=1.5.1 in /usr/local/lib/python3.7/dist-packages (from mlxtend) (3.2.2)\n",
            "Requirement already satisfied: setuptools in /usr/local/lib/python3.7/dist-packages (from mlxtend) (57.4.0)\n",
            "Requirement already satisfied: scikit-learn>=0.18 in /usr/local/lib/python3.7/dist-packages (from mlxtend) (1.0.1)\n",
            "Requirement already satisfied: python-dateutil>=2.1 in /usr/local/lib/python3.7/dist-packages (from matplotlib>=1.5.1->mlxtend) (2.8.2)\n",
            "Requirement already satisfied: kiwisolver>=1.0.1 in /usr/local/lib/python3.7/dist-packages (from matplotlib>=1.5.1->mlxtend) (1.3.2)\n",
            "Requirement already satisfied: pyparsing!=2.0.4,!=2.1.2,!=2.1.6,>=2.0.1 in /usr/local/lib/python3.7/dist-packages (from matplotlib>=1.5.1->mlxtend) (3.0.6)\n",
            "Requirement already satisfied: cycler>=0.10 in /usr/local/lib/python3.7/dist-packages (from matplotlib>=1.5.1->mlxtend) (0.11.0)\n",
            "Requirement already satisfied: pytz>=2017.2 in /usr/local/lib/python3.7/dist-packages (from pandas>=0.17.1->mlxtend) (2018.9)\n",
            "Requirement already satisfied: six>=1.5 in /usr/local/lib/python3.7/dist-packages (from python-dateutil>=2.1->matplotlib>=1.5.1->mlxtend) (1.15.0)\n",
            "Requirement already satisfied: joblib>=0.11 in /usr/local/lib/python3.7/dist-packages (from scikit-learn>=0.18->mlxtend) (1.1.0)\n",
            "Requirement already satisfied: threadpoolctl>=2.0.0 in /usr/local/lib/python3.7/dist-packages (from scikit-learn>=0.18->mlxtend) (3.0.0)\n"
          ]
        }
      ]
    },
    {
      "cell_type": "code",
      "metadata": {
        "id": "uI66F7VmCd0l"
      },
      "source": [
        "import sys\n",
        "import joblib\n",
        "sys.modules['sklearn.externals.joblib'] = joblib"
      ],
      "execution_count": 21,
      "outputs": []
    },
    {
      "cell_type": "code",
      "metadata": {
        "id": "lvwa31neBDWN"
      },
      "source": [
        "# library for forward feature selection\n",
        "from mlxtend.feature_selection import SequentialFeatureSelector as SFS\n",
        "from sklearn.neighbors import KNeighborsClassifier as knn\n",
        "from sklearn.linear_model import LogisticRegression as LGR\n",
        "from sklearn.ensemble import RandomForestClassifier as rfc"
      ],
      "execution_count": 22,
      "outputs": []
    },
    {
      "cell_type": "code",
      "metadata": {
        "colab": {
          "base_uri": "https://localhost:8080/"
        },
        "id": "y9LAuZmlCx8j",
        "outputId": "c5360a42-2489-4cca-e42f-ab6d5cfebe79"
      },
      "source": [
        "feature_names=tuple(X.columns)\n",
        "feature_names\n",
        "# Print all columns name"
      ],
      "execution_count": 23,
      "outputs": [
        {
          "output_type": "execute_result",
          "data": {
            "text/plain": [
              "('Gender',\n",
              " 'Married',\n",
              " 'Dependents',\n",
              " 'Education',\n",
              " 'Self_Employed',\n",
              " 'ApplicantIncome',\n",
              " 'CoapplicantIncome',\n",
              " 'LoanAmount',\n",
              " 'Loan_Amount_Term',\n",
              " 'Credit_History',\n",
              " 'Property_Area')"
            ]
          },
          "metadata": {},
          "execution_count": 23
        }
      ]
    },
    {
      "cell_type": "code",
      "metadata": {
        "colab": {
          "base_uri": "https://localhost:8080/"
        },
        "id": "eweTLGm7C3cb",
        "outputId": "b2afe61f-d11c-47d0-b27f-bc4c93d1f1c1"
      },
      "source": [
        "# doing forward feature selection\n",
        "sfs1 = SFS(#knn(n_neighbors=3),\n",
        "           #rfc(n_jobs=8),\n",
        "           LGR(max_iter=1000),  # algoritm using here is Logistic Regression with 1000 iteration\n",
        "           k_features='best', \n",
        "           forward=True, \n",
        "           floating=False, \n",
        "           verbose=2,  # will allow us to bring the model summary at each iteration.\n",
        "           #scoring = 'neg_mean_squared_error',  # sklearn regressors\n",
        "           scoring='accuracy',  # sklearn classifiers\n",
        "           cv=0)\n",
        "\n",
        "sfs1 = sfs1.fit(X, y,custom_feature_names=feature_names)"
      ],
      "execution_count": 24,
      "outputs": [
        {
          "output_type": "stream",
          "name": "stderr",
          "text": [
            "[Parallel(n_jobs=1)]: Using backend SequentialBackend with 1 concurrent workers.\n",
            "[Parallel(n_jobs=1)]: Done   1 out of   1 | elapsed:    0.0s remaining:    0.0s\n",
            "[Parallel(n_jobs=1)]: Done  11 out of  11 | elapsed:    0.1s finished\n",
            "\n",
            "[2021-12-02 12:10:57] Features: 1/11 -- score: 0.8083333333333333[Parallel(n_jobs=1)]: Using backend SequentialBackend with 1 concurrent workers.\n",
            "[Parallel(n_jobs=1)]: Done   1 out of   1 | elapsed:    0.0s remaining:    0.0s\n",
            "[Parallel(n_jobs=1)]: Done  10 out of  10 | elapsed:    0.1s finished\n",
            "\n",
            "[2021-12-02 12:10:57] Features: 2/11 -- score: 0.8104166666666667[Parallel(n_jobs=1)]: Using backend SequentialBackend with 1 concurrent workers.\n",
            "[Parallel(n_jobs=1)]: Done   1 out of   1 | elapsed:    0.0s remaining:    0.0s\n",
            "[Parallel(n_jobs=1)]: Done   9 out of   9 | elapsed:    0.2s finished\n",
            "\n",
            "[2021-12-02 12:10:57] Features: 3/11 -- score: 0.8104166666666667[Parallel(n_jobs=1)]: Using backend SequentialBackend with 1 concurrent workers.\n",
            "[Parallel(n_jobs=1)]: Done   1 out of   1 | elapsed:    0.0s remaining:    0.0s\n",
            "[Parallel(n_jobs=1)]: Done   8 out of   8 | elapsed:    0.1s finished\n",
            "\n",
            "[2021-12-02 12:10:58] Features: 4/11 -- score: 0.8104166666666667[Parallel(n_jobs=1)]: Using backend SequentialBackend with 1 concurrent workers.\n",
            "[Parallel(n_jobs=1)]: Done   1 out of   1 | elapsed:    0.0s remaining:    0.0s\n",
            "[Parallel(n_jobs=1)]: Done   7 out of   7 | elapsed:    0.2s finished\n",
            "\n",
            "[2021-12-02 12:10:58] Features: 5/11 -- score: 0.8104166666666667[Parallel(n_jobs=1)]: Using backend SequentialBackend with 1 concurrent workers.\n",
            "[Parallel(n_jobs=1)]: Done   1 out of   1 | elapsed:    0.0s remaining:    0.0s\n",
            "[Parallel(n_jobs=1)]: Done   6 out of   6 | elapsed:    0.2s finished\n",
            "\n",
            "[2021-12-02 12:10:58] Features: 6/11 -- score: 0.8104166666666667[Parallel(n_jobs=1)]: Using backend SequentialBackend with 1 concurrent workers.\n",
            "[Parallel(n_jobs=1)]: Done   1 out of   1 | elapsed:    0.0s remaining:    0.0s\n",
            "[Parallel(n_jobs=1)]: Done   5 out of   5 | elapsed:    0.2s finished\n",
            "\n",
            "[2021-12-02 12:10:58] Features: 7/11 -- score: 0.8125[Parallel(n_jobs=1)]: Using backend SequentialBackend with 1 concurrent workers.\n",
            "[Parallel(n_jobs=1)]: Done   1 out of   1 | elapsed:    0.0s remaining:    0.0s\n",
            "[Parallel(n_jobs=1)]: Done   4 out of   4 | elapsed:    0.2s finished\n",
            "\n",
            "[2021-12-02 12:10:58] Features: 8/11 -- score: 0.8104166666666667[Parallel(n_jobs=1)]: Using backend SequentialBackend with 1 concurrent workers.\n",
            "[Parallel(n_jobs=1)]: Done   1 out of   1 | elapsed:    0.0s remaining:    0.0s\n",
            "[Parallel(n_jobs=1)]: Done   3 out of   3 | elapsed:    0.1s finished\n",
            "\n",
            "[2021-12-02 12:10:58] Features: 9/11 -- score: 0.8104166666666667[Parallel(n_jobs=1)]: Using backend SequentialBackend with 1 concurrent workers.\n",
            "[Parallel(n_jobs=1)]: Done   1 out of   1 | elapsed:    0.0s remaining:    0.0s\n",
            "[Parallel(n_jobs=1)]: Done   2 out of   2 | elapsed:    0.1s finished\n",
            "\n",
            "[2021-12-02 12:10:58] Features: 10/11 -- score: 0.8083333333333333[Parallel(n_jobs=1)]: Using backend SequentialBackend with 1 concurrent workers.\n",
            "[Parallel(n_jobs=1)]: Done   1 out of   1 | elapsed:    0.0s remaining:    0.0s\n",
            "[Parallel(n_jobs=1)]: Done   1 out of   1 | elapsed:    0.0s finished\n",
            "\n",
            "[2021-12-02 12:10:59] Features: 11/11 -- score: 0.8083333333333333"
          ]
        }
      ]
    },
    {
      "cell_type": "code",
      "metadata": {
        "colab": {
          "base_uri": "https://localhost:8080/"
        },
        "id": "T494Tn25Dq5P",
        "outputId": "f266c21f-41a2-4c7c-c179-b605487da3c5"
      },
      "source": [
        "# Via the subsets_ attribute, we can take a look at the selected feature indices at each step:\n",
        "sfs1.subsets_\n"
      ],
      "execution_count": 25,
      "outputs": [
        {
          "output_type": "execute_result",
          "data": {
            "text/plain": [
              "{1: {'avg_score': 0.8083333333333333,\n",
              "  'cv_scores': array([0.80833333]),\n",
              "  'feature_idx': (9,),\n",
              "  'feature_names': ('Credit_History',)},\n",
              " 2: {'avg_score': 0.8104166666666667,\n",
              "  'cv_scores': array([0.81041667]),\n",
              "  'feature_idx': (6, 9),\n",
              "  'feature_names': ('CoapplicantIncome', 'Credit_History')},\n",
              " 3: {'avg_score': 0.8104166666666667,\n",
              "  'cv_scores': array([0.81041667]),\n",
              "  'feature_idx': (0, 6, 9),\n",
              "  'feature_names': ('Gender', 'CoapplicantIncome', 'Credit_History')},\n",
              " 4: {'avg_score': 0.8104166666666667,\n",
              "  'cv_scores': array([0.81041667]),\n",
              "  'feature_idx': (0, 2, 6, 9),\n",
              "  'feature_names': ('Gender',\n",
              "   'Dependents',\n",
              "   'CoapplicantIncome',\n",
              "   'Credit_History')},\n",
              " 5: {'avg_score': 0.8104166666666667,\n",
              "  'cv_scores': array([0.81041667]),\n",
              "  'feature_idx': (0, 1, 2, 6, 9),\n",
              "  'feature_names': ('Gender',\n",
              "   'Married',\n",
              "   'Dependents',\n",
              "   'CoapplicantIncome',\n",
              "   'Credit_History')},\n",
              " 6: {'avg_score': 0.8104166666666667,\n",
              "  'cv_scores': array([0.81041667]),\n",
              "  'feature_idx': (0, 1, 2, 4, 6, 9),\n",
              "  'feature_names': ('Gender',\n",
              "   'Married',\n",
              "   'Dependents',\n",
              "   'Self_Employed',\n",
              "   'CoapplicantIncome',\n",
              "   'Credit_History')},\n",
              " 7: {'avg_score': 0.8125,\n",
              "  'cv_scores': array([0.8125]),\n",
              "  'feature_idx': (0, 1, 2, 4, 6, 7, 9),\n",
              "  'feature_names': ('Gender',\n",
              "   'Married',\n",
              "   'Dependents',\n",
              "   'Self_Employed',\n",
              "   'CoapplicantIncome',\n",
              "   'LoanAmount',\n",
              "   'Credit_History')},\n",
              " 8: {'avg_score': 0.8104166666666667,\n",
              "  'cv_scores': array([0.81041667]),\n",
              "  'feature_idx': (0, 1, 2, 4, 6, 7, 8, 9),\n",
              "  'feature_names': ('Gender',\n",
              "   'Married',\n",
              "   'Dependents',\n",
              "   'Self_Employed',\n",
              "   'CoapplicantIncome',\n",
              "   'LoanAmount',\n",
              "   'Loan_Amount_Term',\n",
              "   'Credit_History')},\n",
              " 9: {'avg_score': 0.8104166666666667,\n",
              "  'cv_scores': array([0.81041667]),\n",
              "  'feature_idx': (0, 1, 2, 3, 4, 6, 7, 8, 9),\n",
              "  'feature_names': ('Gender',\n",
              "   'Married',\n",
              "   'Dependents',\n",
              "   'Education',\n",
              "   'Self_Employed',\n",
              "   'CoapplicantIncome',\n",
              "   'LoanAmount',\n",
              "   'Loan_Amount_Term',\n",
              "   'Credit_History')},\n",
              " 10: {'avg_score': 0.8083333333333333,\n",
              "  'cv_scores': array([0.80833333]),\n",
              "  'feature_idx': (0, 1, 2, 3, 4, 6, 7, 8, 9, 10),\n",
              "  'feature_names': ('Gender',\n",
              "   'Married',\n",
              "   'Dependents',\n",
              "   'Education',\n",
              "   'Self_Employed',\n",
              "   'CoapplicantIncome',\n",
              "   'LoanAmount',\n",
              "   'Loan_Amount_Term',\n",
              "   'Credit_History',\n",
              "   'Property_Area')},\n",
              " 11: {'avg_score': 0.8083333333333333,\n",
              "  'cv_scores': array([0.80833333]),\n",
              "  'feature_idx': (0, 1, 2, 3, 4, 5, 6, 7, 8, 9, 10),\n",
              "  'feature_names': ('Gender',\n",
              "   'Married',\n",
              "   'Dependents',\n",
              "   'Education',\n",
              "   'Self_Employed',\n",
              "   'ApplicantIncome',\n",
              "   'CoapplicantIncome',\n",
              "   'LoanAmount',\n",
              "   'Loan_Amount_Term',\n",
              "   'Credit_History',\n",
              "   'Property_Area')}}"
            ]
          },
          "metadata": {},
          "execution_count": 25
        }
      ]
    },
    {
      "cell_type": "code",
      "metadata": {
        "colab": {
          "base_uri": "https://localhost:8080/"
        },
        "id": "2P8rhCO0DzCi",
        "outputId": "8a0023f4-5341-4b50-c18e-4c7943a9f617"
      },
      "source": [
        "sfs1.get_metric_dict()\n",
        "\n",
        "# getting dictionary"
      ],
      "execution_count": 26,
      "outputs": [
        {
          "output_type": "stream",
          "name": "stderr",
          "text": [
            "/usr/local/lib/python3.7/dist-packages/numpy/core/_methods.py:234: RuntimeWarning: Degrees of freedom <= 0 for slice\n",
            "  keepdims=keepdims)\n",
            "/usr/local/lib/python3.7/dist-packages/numpy/core/_methods.py:226: RuntimeWarning: invalid value encountered in double_scalars\n",
            "  ret = ret.dtype.type(ret / rcount)\n"
          ]
        },
        {
          "output_type": "execute_result",
          "data": {
            "text/plain": [
              "{1: {'avg_score': 0.8083333333333333,\n",
              "  'ci_bound': nan,\n",
              "  'cv_scores': array([0.80833333]),\n",
              "  'feature_idx': (9,),\n",
              "  'feature_names': ('Credit_History',),\n",
              "  'std_dev': 0.0,\n",
              "  'std_err': nan},\n",
              " 2: {'avg_score': 0.8104166666666667,\n",
              "  'ci_bound': nan,\n",
              "  'cv_scores': array([0.81041667]),\n",
              "  'feature_idx': (6, 9),\n",
              "  'feature_names': ('CoapplicantIncome', 'Credit_History'),\n",
              "  'std_dev': 0.0,\n",
              "  'std_err': nan},\n",
              " 3: {'avg_score': 0.8104166666666667,\n",
              "  'ci_bound': nan,\n",
              "  'cv_scores': array([0.81041667]),\n",
              "  'feature_idx': (0, 6, 9),\n",
              "  'feature_names': ('Gender', 'CoapplicantIncome', 'Credit_History'),\n",
              "  'std_dev': 0.0,\n",
              "  'std_err': nan},\n",
              " 4: {'avg_score': 0.8104166666666667,\n",
              "  'ci_bound': nan,\n",
              "  'cv_scores': array([0.81041667]),\n",
              "  'feature_idx': (0, 2, 6, 9),\n",
              "  'feature_names': ('Gender',\n",
              "   'Dependents',\n",
              "   'CoapplicantIncome',\n",
              "   'Credit_History'),\n",
              "  'std_dev': 0.0,\n",
              "  'std_err': nan},\n",
              " 5: {'avg_score': 0.8104166666666667,\n",
              "  'ci_bound': nan,\n",
              "  'cv_scores': array([0.81041667]),\n",
              "  'feature_idx': (0, 1, 2, 6, 9),\n",
              "  'feature_names': ('Gender',\n",
              "   'Married',\n",
              "   'Dependents',\n",
              "   'CoapplicantIncome',\n",
              "   'Credit_History'),\n",
              "  'std_dev': 0.0,\n",
              "  'std_err': nan},\n",
              " 6: {'avg_score': 0.8104166666666667,\n",
              "  'ci_bound': nan,\n",
              "  'cv_scores': array([0.81041667]),\n",
              "  'feature_idx': (0, 1, 2, 4, 6, 9),\n",
              "  'feature_names': ('Gender',\n",
              "   'Married',\n",
              "   'Dependents',\n",
              "   'Self_Employed',\n",
              "   'CoapplicantIncome',\n",
              "   'Credit_History'),\n",
              "  'std_dev': 0.0,\n",
              "  'std_err': nan},\n",
              " 7: {'avg_score': 0.8125,\n",
              "  'ci_bound': nan,\n",
              "  'cv_scores': array([0.8125]),\n",
              "  'feature_idx': (0, 1, 2, 4, 6, 7, 9),\n",
              "  'feature_names': ('Gender',\n",
              "   'Married',\n",
              "   'Dependents',\n",
              "   'Self_Employed',\n",
              "   'CoapplicantIncome',\n",
              "   'LoanAmount',\n",
              "   'Credit_History'),\n",
              "  'std_dev': 0.0,\n",
              "  'std_err': nan},\n",
              " 8: {'avg_score': 0.8104166666666667,\n",
              "  'ci_bound': nan,\n",
              "  'cv_scores': array([0.81041667]),\n",
              "  'feature_idx': (0, 1, 2, 4, 6, 7, 8, 9),\n",
              "  'feature_names': ('Gender',\n",
              "   'Married',\n",
              "   'Dependents',\n",
              "   'Self_Employed',\n",
              "   'CoapplicantIncome',\n",
              "   'LoanAmount',\n",
              "   'Loan_Amount_Term',\n",
              "   'Credit_History'),\n",
              "  'std_dev': 0.0,\n",
              "  'std_err': nan},\n",
              " 9: {'avg_score': 0.8104166666666667,\n",
              "  'ci_bound': nan,\n",
              "  'cv_scores': array([0.81041667]),\n",
              "  'feature_idx': (0, 1, 2, 3, 4, 6, 7, 8, 9),\n",
              "  'feature_names': ('Gender',\n",
              "   'Married',\n",
              "   'Dependents',\n",
              "   'Education',\n",
              "   'Self_Employed',\n",
              "   'CoapplicantIncome',\n",
              "   'LoanAmount',\n",
              "   'Loan_Amount_Term',\n",
              "   'Credit_History'),\n",
              "  'std_dev': 0.0,\n",
              "  'std_err': nan},\n",
              " 10: {'avg_score': 0.8083333333333333,\n",
              "  'ci_bound': nan,\n",
              "  'cv_scores': array([0.80833333]),\n",
              "  'feature_idx': (0, 1, 2, 3, 4, 6, 7, 8, 9, 10),\n",
              "  'feature_names': ('Gender',\n",
              "   'Married',\n",
              "   'Dependents',\n",
              "   'Education',\n",
              "   'Self_Employed',\n",
              "   'CoapplicantIncome',\n",
              "   'LoanAmount',\n",
              "   'Loan_Amount_Term',\n",
              "   'Credit_History',\n",
              "   'Property_Area'),\n",
              "  'std_dev': 0.0,\n",
              "  'std_err': nan},\n",
              " 11: {'avg_score': 0.8083333333333333,\n",
              "  'ci_bound': nan,\n",
              "  'cv_scores': array([0.80833333]),\n",
              "  'feature_idx': (0, 1, 2, 3, 4, 5, 6, 7, 8, 9, 10),\n",
              "  'feature_names': ('Gender',\n",
              "   'Married',\n",
              "   'Dependents',\n",
              "   'Education',\n",
              "   'Self_Employed',\n",
              "   'ApplicantIncome',\n",
              "   'CoapplicantIncome',\n",
              "   'LoanAmount',\n",
              "   'Loan_Amount_Term',\n",
              "   'Credit_History',\n",
              "   'Property_Area'),\n",
              "  'std_dev': 0.0,\n",
              "  'std_err': nan}}"
            ]
          },
          "metadata": {},
          "execution_count": 26
        }
      ]
    },
    {
      "cell_type": "code",
      "metadata": {
        "colab": {
          "base_uri": "https://localhost:8080/",
          "height": 364
        },
        "id": "WHnMsGoWEBhv",
        "outputId": "00b5758f-7e84-4e6e-b88b-33bd2e93a21c"
      },
      "source": [
        "from mlxtend.plotting import plot_sequential_feature_selection as plot_sfs\n",
        "fig1 = plot_sfs(sfs1.get_metric_dict(confidence_interval=0.95), kind='std_err')\n",
        "\n",
        "plt.title('Sequential Forward Selection')\n",
        "plt.grid()\n",
        "plt.show()\n",
        "\n",
        "\n",
        "# ploting graph "
      ],
      "execution_count": 27,
      "outputs": [
        {
          "output_type": "stream",
          "name": "stderr",
          "text": [
            "/usr/local/lib/python3.7/dist-packages/numpy/core/_methods.py:234: RuntimeWarning: Degrees of freedom <= 0 for slice\n",
            "  keepdims=keepdims)\n",
            "/usr/local/lib/python3.7/dist-packages/numpy/core/_methods.py:226: RuntimeWarning: invalid value encountered in double_scalars\n",
            "  ret = ret.dtype.type(ret / rcount)\n"
          ]
        },
        {
          "output_type": "display_data",
          "data": {
            "image/png": "[encoded data removed]",
            "text/plain": [
              "<Figure size 432x288 with 1 Axes>"
            ]
          },
          "metadata": {
            "needs_background": "light"
          }
        }
      ]
    },
    {
      "cell_type": "code",
      "metadata": {
        "colab": {
          "base_uri": "https://localhost:8080/"
        },
        "id": "SDY9q4ymEMhK",
        "outputId": "8f1e1e7d-cbcb-4103-dc08-8069978e5247"
      },
      "source": [
        "# Lets access the indices of the best features directly via the k_feature_idx_ attribute:\n",
        "sfs1.k_feature_names_, sfs1.k_feature_idx_"
      ],
      "execution_count": 28,
      "outputs": [
        {
          "output_type": "execute_result",
          "data": {
            "text/plain": [
              "(('Gender',\n",
              "  'Married',\n",
              "  'Dependents',\n",
              "  'Self_Employed',\n",
              "  'CoapplicantIncome',\n",
              "  'LoanAmount',\n",
              "  'Credit_History'),\n",
              " (0, 1, 2, 4, 6, 7, 9))"
            ]
          },
          "metadata": {},
          "execution_count": 28
        }
      ]
    },
    {
      "cell_type": "code",
      "metadata": {
        "colab": {
          "base_uri": "https://localhost:8080/",
          "height": 464
        },
        "id": "hqK1mPrWEZ_H",
        "outputId": "47afc791-8299-4955-97ac-7f64bfccaea1"
      },
      "source": [
        "df = pd.DataFrame.from_dict(sfs1.get_metric_dict()).T\n",
        "df[[\"feature_idx\",\"avg_score\"]]"
      ],
      "execution_count": 29,
      "outputs": [
        {
          "output_type": "stream",
          "name": "stderr",
          "text": [
            "/usr/local/lib/python3.7/dist-packages/numpy/core/_methods.py:234: RuntimeWarning: Degrees of freedom <= 0 for slice\n",
            "  keepdims=keepdims)\n",
            "/usr/local/lib/python3.7/dist-packages/numpy/core/_methods.py:226: RuntimeWarning: invalid value encountered in double_scalars\n",
            "  ret = ret.dtype.type(ret / rcount)\n"
          ]
        },
        {
          "output_type": "execute_result",
          "data": {
            "text/html": [
              "<div>\n",
              "<style scoped>\n",
              "    .dataframe tbody tr th:only-of-type {\n",
              "        vertical-align: middle;\n",
              "    }\n",
              "\n",
              "    .dataframe tbody tr th {\n",
              "        vertical-align: top;\n",
              "    }\n",
              "\n",
              "    .dataframe thead th {\n",
              "        text-align: right;\n",
              "    }\n",
              "</style>\n",
              "<table border=\"1\" class=\"dataframe\">\n",
              "  <thead>\n",
              "    <tr style=\"text-align: right;\">\n",
              "      <th></th>\n",
              "      <th>feature_idx</th>\n",
              "      <th>avg_score</th>\n",
              "    </tr>\n",
              "  </thead>\n",
              "  <tbody>\n",
              "    <tr>\n",
              "      <th>1</th>\n",
              "      <td>(9,)</td>\n",
              "      <td>0.808333</td>\n",
              "    </tr>\n",
              "    <tr>\n",
              "      <th>2</th>\n",
              "      <td>(6, 9)</td>\n",
              "      <td>0.810417</td>\n",
              "    </tr>\n",
              "    <tr>\n",
              "      <th>3</th>\n",
              "      <td>(0, 6, 9)</td>\n",
              "      <td>0.810417</td>\n",
              "    </tr>\n",
              "    <tr>\n",
              "      <th>4</th>\n",
              "      <td>(0, 2, 6, 9)</td>\n",
              "      <td>0.810417</td>\n",
              "    </tr>\n",
              "    <tr>\n",
              "      <th>5</th>\n",
              "      <td>(0, 1, 2, 6, 9)</td>\n",
              "      <td>0.810417</td>\n",
              "    </tr>\n",
              "    <tr>\n",
              "      <th>6</th>\n",
              "      <td>(0, 1, 2, 4, 6, 9)</td>\n",
              "      <td>0.810417</td>\n",
              "    </tr>\n",
              "    <tr>\n",
              "      <th>7</th>\n",
              "      <td>(0, 1, 2, 4, 6, 7, 9)</td>\n",
              "      <td>0.8125</td>\n",
              "    </tr>\n",
              "    <tr>\n",
              "      <th>8</th>\n",
              "      <td>(0, 1, 2, 4, 6, 7, 8, 9)</td>\n",
              "      <td>0.810417</td>\n",
              "    </tr>\n",
              "    <tr>\n",
              "      <th>9</th>\n",
              "      <td>(0, 1, 2, 3, 4, 6, 7, 8, 9)</td>\n",
              "      <td>0.810417</td>\n",
              "    </tr>\n",
              "    <tr>\n",
              "      <th>10</th>\n",
              "      <td>(0, 1, 2, 3, 4, 6, 7, 8, 9, 10)</td>\n",
              "      <td>0.808333</td>\n",
              "    </tr>\n",
              "    <tr>\n",
              "      <th>11</th>\n",
              "      <td>(0, 1, 2, 3, 4, 5, 6, 7, 8, 9, 10)</td>\n",
              "      <td>0.808333</td>\n",
              "    </tr>\n",
              "  </tbody>\n",
              "</table>\n",
              "</div>"
            ],
            "text/plain": [
              "                           feature_idx avg_score\n",
              "1                                 (9,)  0.808333\n",
              "2                               (6, 9)  0.810417\n",
              "3                            (0, 6, 9)  0.810417\n",
              "4                         (0, 2, 6, 9)  0.810417\n",
              "5                      (0, 1, 2, 6, 9)  0.810417\n",
              "6                   (0, 1, 2, 4, 6, 9)  0.810417\n",
              "7                (0, 1, 2, 4, 6, 7, 9)    0.8125\n",
              "8             (0, 1, 2, 4, 6, 7, 8, 9)  0.810417\n",
              "9          (0, 1, 2, 3, 4, 6, 7, 8, 9)  0.810417\n",
              "10     (0, 1, 2, 3, 4, 6, 7, 8, 9, 10)  0.808333\n",
              "11  (0, 1, 2, 3, 4, 5, 6, 7, 8, 9, 10)  0.808333"
            ]
          },
          "metadata": {},
          "execution_count": 29
        }
      ]
    },
    {
      "cell_type": "markdown",
      "metadata": {
        "id": "kkZ1zhTQEg5K"
      },
      "source": [
        "Note : As we can see from above dataframe, index 7 have highest score and the selected feature indexs"
      ]
    },
    {
      "cell_type": "markdown",
      "metadata": {
        "id": "dVm-6dd-RD8R"
      },
      "source": [
        "## **Forward Feature Selection for Regression Problem**"
      ]
    },
    {
      "cell_type": "code",
      "metadata": {
        "colab": {
          "base_uri": "https://localhost:8080/",
          "height": 975
        },
        "id": "w7F8UkdNRH2D",
        "outputId": "c7110392-2412-40b2-d0a0-5baa79c4e155"
      },
      "source": [
        "from sklearn.linear_model import LinearRegression\n",
        "from sklearn.datasets import load_boston\n",
        "import matplotlib.pyplot as plt\n",
        "from mlxtend.plotting import plot_sequential_feature_selection as plot_sfs\n",
        "\n",
        "boston = load_boston()\n",
        "bos = pd.DataFrame(boston.data, columns = boston.feature_names)\n",
        "bos['Price'] = boston.target\n",
        "X = bos.drop(\"Price\", 1)       # feature matrix\n",
        "y = bos['Price']               # target feature\n",
        "lr = LinearRegression()\n",
        "sfs = SFS(lr, \n",
        "          k_features=13,#'best', \n",
        "          forward=True, \n",
        "          floating=False, \n",
        "          scoring='neg_mean_squared_error',\n",
        "          cv=5)\n",
        "sfs = sfs.fit(X, y)\n",
        "fig = plot_sfs(sfs.get_metric_dict(), kind='std_err')\n",
        "print(\"Selected Features :\", sfs.k_feature_names_)\n",
        "print(\"Selected Features ID :\", sfs.k_feature_idx_)\n",
        "plt.title('Sequential Forward Selection (w. StdErr)')\n",
        "plt.grid()\n",
        "plt.show()"
      ],
      "execution_count": 36,
      "outputs": [
        {
          "output_type": "stream",
          "name": "stderr",
          "text": [
            "/usr/local/lib/python3.7/dist-packages/sklearn/utils/deprecation.py:87: FutureWarning: Function load_boston is deprecated; `load_boston` is deprecated in 1.0 and will be removed in 1.2.\n",
            "\n",
            "    The Boston housing prices dataset has an ethical problem. You can refer to\n",
            "    the documentation of this function for further details.\n",
            "\n",
            "    The scikit-learn maintainers therefore strongly discourage the use of this\n",
            "    dataset unless the purpose of the code is to study and educate about\n",
            "    ethical issues in data science and machine learning.\n",
            "\n",
            "    In this special case, you can fetch the dataset from the original\n",
            "    source::\n",
            "\n",
            "        import pandas as pd\n",
            "        import numpy as np\n",
            "\n",
            "\n",
            "        data_url = \"http://lib.stat.cmu.edu/datasets/boston\"\n",
            "        raw_df = pd.read_csv(data_url, sep=\"\\s+\", skiprows=22, header=None)\n",
            "        data = np.hstack([raw_df.values[::2, :], raw_df.values[1::2, :2]])\n",
            "        target = raw_df.values[1::2, 2]\n",
            "\n",
            "    Alternative datasets include the California housing dataset (i.e.\n",
            "    :func:`~sklearn.datasets.fetch_california_housing`) and the Ames housing\n",
            "    dataset. You can load the datasets as follows::\n",
            "\n",
            "        from sklearn.datasets import fetch_california_housing\n",
            "        housing = fetch_california_housing()\n",
            "\n",
            "    for the California housing dataset and::\n",
            "\n",
            "        from sklearn.datasets import fetch_openml\n",
            "        housing = fetch_openml(name=\"house_prices\", as_frame=True)\n",
            "\n",
            "    for the Ames housing dataset.\n",
            "    \n",
            "  warnings.warn(msg, category=FutureWarning)\n"
          ]
        },
        {
          "output_type": "stream",
          "name": "stdout",
          "text": [
            "Selected Features : ('CRIM', 'ZN', 'INDUS', 'CHAS', 'NOX', 'RM', 'AGE', 'DIS', 'RAD', 'TAX', 'PTRATIO', 'B', 'LSTAT')\n",
            "Selected Features ID : (0, 1, 2, 3, 4, 5, 6, 7, 8, 9, 10, 11, 12)\n"
          ]
        },
        {
          "output_type": "display_data",
          "data": {
            "image/png": "[encoded data removed]",
            "text/plain": [
              "<Figure size 432x288 with 1 Axes>"
            ]
          },
          "metadata": {
            "needs_background": "light"
          }
        }
      ]
    },
    {
      "cell_type": "code",
      "metadata": {
        "colab": {
          "base_uri": "https://localhost:8080/",
          "height": 457
        },
        "id": "0SbRYwWFRS73",
        "outputId": "31b9bb09-7b22-48e9-84d5-3d646705caa0"
      },
      "source": [
        "df = pd.DataFrame.from_dict(sfs.get_metric_dict()).T\n",
        "df[[\"feature_idx\",\"avg_score\"]]"
      ],
      "execution_count": 37,
      "outputs": [
        {
          "output_type": "execute_result",
          "data": {
            "text/html": [
              "<div>\n",
              "<style scoped>\n",
              "    .dataframe tbody tr th:only-of-type {\n",
              "        vertical-align: middle;\n",
              "    }\n",
              "\n",
              "    .dataframe tbody tr th {\n",
              "        vertical-align: top;\n",
              "    }\n",
              "\n",
              "    .dataframe thead th {\n",
              "        text-align: right;\n",
              "    }\n",
              "</style>\n",
              "<table border=\"1\" class=\"dataframe\">\n",
              "  <thead>\n",
              "    <tr style=\"text-align: right;\">\n",
              "      <th></th>\n",
              "      <th>feature_idx</th>\n",
              "      <th>avg_score</th>\n",
              "    </tr>\n",
              "  </thead>\n",
              "  <tbody>\n",
              "    <tr>\n",
              "      <th>1</th>\n",
              "      <td>(12,)</td>\n",
              "      <td>-42.6185</td>\n",
              "    </tr>\n",
              "    <tr>\n",
              "      <th>2</th>\n",
              "      <td>(10, 12)</td>\n",
              "      <td>-36.0651</td>\n",
              "    </tr>\n",
              "    <tr>\n",
              "      <th>3</th>\n",
              "      <td>(5, 10, 12)</td>\n",
              "      <td>-34.1001</td>\n",
              "    </tr>\n",
              "    <tr>\n",
              "      <th>4</th>\n",
              "      <td>(3, 5, 10, 12)</td>\n",
              "      <td>-33.7681</td>\n",
              "    </tr>\n",
              "    <tr>\n",
              "      <th>5</th>\n",
              "      <td>(0, 3, 5, 10, 12)</td>\n",
              "      <td>-33.6392</td>\n",
              "    </tr>\n",
              "    <tr>\n",
              "      <th>6</th>\n",
              "      <td>(0, 3, 5, 7, 10, 12)</td>\n",
              "      <td>-33.6276</td>\n",
              "    </tr>\n",
              "    <tr>\n",
              "      <th>7</th>\n",
              "      <td>(0, 2, 3, 5, 7, 10, 12)</td>\n",
              "      <td>-32.4082</td>\n",
              "    </tr>\n",
              "    <tr>\n",
              "      <th>8</th>\n",
              "      <td>(0, 1, 2, 3, 5, 7, 10, 12)</td>\n",
              "      <td>-32.3697</td>\n",
              "    </tr>\n",
              "    <tr>\n",
              "      <th>9</th>\n",
              "      <td>(0, 1, 2, 3, 5, 7, 10, 11, 12)</td>\n",
              "      <td>-32.4016</td>\n",
              "    </tr>\n",
              "    <tr>\n",
              "      <th>10</th>\n",
              "      <td>(0, 1, 2, 3, 4, 5, 7, 10, 11, 12)</td>\n",
              "      <td>-32.8504</td>\n",
              "    </tr>\n",
              "    <tr>\n",
              "      <th>11</th>\n",
              "      <td>(0, 1, 2, 3, 4, 5, 6, 7, 10, 11, 12)</td>\n",
              "      <td>-34.1065</td>\n",
              "    </tr>\n",
              "    <tr>\n",
              "      <th>12</th>\n",
              "      <td>(0, 1, 2, 3, 4, 5, 6, 7, 9, 10, 11, 12)</td>\n",
              "      <td>-35.5814</td>\n",
              "    </tr>\n",
              "    <tr>\n",
              "      <th>13</th>\n",
              "      <td>(0, 1, 2, 3, 4, 5, 6, 7, 8, 9, 10, 11, 12)</td>\n",
              "      <td>-37.1318</td>\n",
              "    </tr>\n",
              "  </tbody>\n",
              "</table>\n",
              "</div>"
            ],
            "text/plain": [
              "                                   feature_idx avg_score\n",
              "1                                        (12,)  -42.6185\n",
              "2                                     (10, 12)  -36.0651\n",
              "3                                  (5, 10, 12)  -34.1001\n",
              "4                               (3, 5, 10, 12)  -33.7681\n",
              "5                            (0, 3, 5, 10, 12)  -33.6392\n",
              "6                         (0, 3, 5, 7, 10, 12)  -33.6276\n",
              "7                      (0, 2, 3, 5, 7, 10, 12)  -32.4082\n",
              "8                   (0, 1, 2, 3, 5, 7, 10, 12)  -32.3697\n",
              "9               (0, 1, 2, 3, 5, 7, 10, 11, 12)  -32.4016\n",
              "10           (0, 1, 2, 3, 4, 5, 7, 10, 11, 12)  -32.8504\n",
              "11        (0, 1, 2, 3, 4, 5, 6, 7, 10, 11, 12)  -34.1065\n",
              "12     (0, 1, 2, 3, 4, 5, 6, 7, 9, 10, 11, 12)  -35.5814\n",
              "13  (0, 1, 2, 3, 4, 5, 6, 7, 8, 9, 10, 11, 12)  -37.1318"
            ]
          },
          "metadata": {},
          "execution_count": 37
        }
      ]
    },
    {
      "cell_type": "code",
      "metadata": {
        "colab": {
          "base_uri": "https://localhost:8080/"
        },
        "id": "xk9vcb5xWge0",
        "outputId": "fa619cf3-52e6-4f6e-90b7-e8de2fa2e709"
      },
      "source": [
        "feat_names = list(sfs.k_feature_names_)\n",
        "print(feat_names)\n",
        "\n",
        "# printing selected features name"
      ],
      "execution_count": 39,
      "outputs": [
        {
          "output_type": "stream",
          "name": "stdout",
          "text": [
            "['CRIM', 'ZN', 'INDUS', 'CHAS', 'NOX', 'RM', 'AGE', 'DIS', 'RAD', 'TAX', 'PTRATIO', 'B', 'LSTAT']\n"
          ]
        }
      ]
    },
    {
      "cell_type": "code",
      "metadata": {
        "colab": {
          "base_uri": "https://localhost:8080/",
          "height": 206
        },
        "id": "csro1ePBWr_t",
        "outputId": "bb56a9ea-6188-4aa6-b08e-2473b1934fc7"
      },
      "source": [
        "# creating a new dataframe using the above variables and adding the target variable\n",
        "new_data = bos[feat_names]\n",
        "new_data['Price'] = bos['Price'] \n",
        "\n",
        "# first five rows of the new data\n",
        "new_data.head()"
      ],
      "execution_count": 41,
      "outputs": [
        {
          "output_type": "execute_result",
          "data": {
            "text/html": [
              "<div>\n",
              "<style scoped>\n",
              "    .dataframe tbody tr th:only-of-type {\n",
              "        vertical-align: middle;\n",
              "    }\n",
              "\n",
              "    .dataframe tbody tr th {\n",
              "        vertical-align: top;\n",
              "    }\n",
              "\n",
              "    .dataframe thead th {\n",
              "        text-align: right;\n",
              "    }\n",
              "</style>\n",
              "<table border=\"1\" class=\"dataframe\">\n",
              "  <thead>\n",
              "    <tr style=\"text-align: right;\">\n",
              "      <th></th>\n",
              "      <th>CRIM</th>\n",
              "      <th>ZN</th>\n",
              "      <th>INDUS</th>\n",
              "      <th>CHAS</th>\n",
              "      <th>NOX</th>\n",
              "      <th>RM</th>\n",
              "      <th>AGE</th>\n",
              "      <th>DIS</th>\n",
              "      <th>RAD</th>\n",
              "      <th>TAX</th>\n",
              "      <th>PTRATIO</th>\n",
              "      <th>B</th>\n",
              "      <th>LSTAT</th>\n",
              "      <th>Price</th>\n",
              "    </tr>\n",
              "  </thead>\n",
              "  <tbody>\n",
              "    <tr>\n",
              "      <th>0</th>\n",
              "      <td>0.00632</td>\n",
              "      <td>18.0</td>\n",
              "      <td>2.31</td>\n",
              "      <td>0.0</td>\n",
              "      <td>0.538</td>\n",
              "      <td>6.575</td>\n",
              "      <td>65.2</td>\n",
              "      <td>4.0900</td>\n",
              "      <td>1.0</td>\n",
              "      <td>296.0</td>\n",
              "      <td>15.3</td>\n",
              "      <td>396.90</td>\n",
              "      <td>4.98</td>\n",
              "      <td>24.0</td>\n",
              "    </tr>\n",
              "    <tr>\n",
              "      <th>1</th>\n",
              "      <td>0.02731</td>\n",
              "      <td>0.0</td>\n",
              "      <td>7.07</td>\n",
              "      <td>0.0</td>\n",
              "      <td>0.469</td>\n",
              "      <td>6.421</td>\n",
              "      <td>78.9</td>\n",
              "      <td>4.9671</td>\n",
              "      <td>2.0</td>\n",
              "      <td>242.0</td>\n",
              "      <td>17.8</td>\n",
              "      <td>396.90</td>\n",
              "      <td>9.14</td>\n",
              "      <td>21.6</td>\n",
              "    </tr>\n",
              "    <tr>\n",
              "      <th>2</th>\n",
              "      <td>0.02729</td>\n",
              "      <td>0.0</td>\n",
              "      <td>7.07</td>\n",
              "      <td>0.0</td>\n",
              "      <td>0.469</td>\n",
              "      <td>7.185</td>\n",
              "      <td>61.1</td>\n",
              "      <td>4.9671</td>\n",
              "      <td>2.0</td>\n",
              "      <td>242.0</td>\n",
              "      <td>17.8</td>\n",
              "      <td>392.83</td>\n",
              "      <td>4.03</td>\n",
              "      <td>34.7</td>\n",
              "    </tr>\n",
              "    <tr>\n",
              "      <th>3</th>\n",
              "      <td>0.03237</td>\n",
              "      <td>0.0</td>\n",
              "      <td>2.18</td>\n",
              "      <td>0.0</td>\n",
              "      <td>0.458</td>\n",
              "      <td>6.998</td>\n",
              "      <td>45.8</td>\n",
              "      <td>6.0622</td>\n",
              "      <td>3.0</td>\n",
              "      <td>222.0</td>\n",
              "      <td>18.7</td>\n",
              "      <td>394.63</td>\n",
              "      <td>2.94</td>\n",
              "      <td>33.4</td>\n",
              "    </tr>\n",
              "    <tr>\n",
              "      <th>4</th>\n",
              "      <td>0.06905</td>\n",
              "      <td>0.0</td>\n",
              "      <td>2.18</td>\n",
              "      <td>0.0</td>\n",
              "      <td>0.458</td>\n",
              "      <td>7.147</td>\n",
              "      <td>54.2</td>\n",
              "      <td>6.0622</td>\n",
              "      <td>3.0</td>\n",
              "      <td>222.0</td>\n",
              "      <td>18.7</td>\n",
              "      <td>396.90</td>\n",
              "      <td>5.33</td>\n",
              "      <td>36.2</td>\n",
              "    </tr>\n",
              "  </tbody>\n",
              "</table>\n",
              "</div>"
            ],
            "text/plain": [
              "      CRIM    ZN  INDUS  CHAS    NOX  ...    TAX  PTRATIO       B  LSTAT  Price\n",
              "0  0.00632  18.0   2.31   0.0  0.538  ...  296.0     15.3  396.90   4.98   24.0\n",
              "1  0.02731   0.0   7.07   0.0  0.469  ...  242.0     17.8  396.90   9.14   21.6\n",
              "2  0.02729   0.0   7.07   0.0  0.469  ...  242.0     17.8  392.83   4.03   34.7\n",
              "3  0.03237   0.0   2.18   0.0  0.458  ...  222.0     18.7  394.63   2.94   33.4\n",
              "4  0.06905   0.0   2.18   0.0  0.458  ...  222.0     18.7  396.90   5.33   36.2\n",
              "\n",
              "[5 rows x 14 columns]"
            ]
          },
          "metadata": {},
          "execution_count": 41
        }
      ]
    },
    {
      "cell_type": "code",
      "metadata": {
        "id": "QCOE48iHWsDA"
      },
      "source": [
        ""
      ],
      "execution_count": null,
      "outputs": []
    }
  ]
}